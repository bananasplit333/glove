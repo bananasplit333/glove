{
 "cells": [
  {
   "cell_type": "code",
   "execution_count": 50,
   "id": "108bef6a-5ff9-4b04-8fdd-ea1aa3aac99e",
   "metadata": {},
   "outputs": [
    {
     "data": {
      "text/plain": [
       "True"
      ]
     },
     "execution_count": 50,
     "metadata": {},
     "output_type": "execute_result"
    }
   ],
   "source": [
    "import openai\n",
    "from langsmith.wrappers import wrap_openai\n",
    "from langsmith import traceable\n",
    "import os \n",
    "from dotenv import load_dotenv \n",
    "import json\n",
    "\n",
    "load_dotenv()"
   ]
  },
  {
   "cell_type": "code",
   "execution_count": 51,
   "id": "9ab2e992-fdea-4dd6-a787-bfcd0e524ae2",
   "metadata": {},
   "outputs": [],
   "source": [
    "os.environ[\"OPENAI_API_KEY\"] = os.getenv(\"OPENAI_API_KEY\")\n",
    "os.environ[\"LANGCHAIN_API_KEY\"] = os.getenv(\"LANGCHAIN_API_KEY\")\n",
    "os.environ[\"LANGCHAIN_TRACING_V2\"] = os.getenv(\"LANGCHAIN_TRACING_V2\")\n",
    "os.environ[\"LANGCHAIN_PROJECT\"] = os.getenv(\"LANGCHAIN_PROJECT\")"
   ]
  },
  {
   "cell_type": "code",
   "execution_count": 81,
   "id": "e758f560",
   "metadata": {},
   "outputs": [],
   "source": [
    "client = wrap_openai(openai.Client())\n",
    "\n",
    "def pipeline(user_input: str):\n",
    "    result = client.chat.completions.create(\n",
    "        messages=[\n",
    "            {\n",
    "                \"role\": \"system\",\n",
    "                \"content\": '''You are a helpful customer service agent that represents WidgetWorld, an online e-commerce conglomerate.\n",
    "                            You will be given some data that represents user reviews on our products. Given this data, you will be responsible for the following:\n",
    "\n",
    "                            1. Analyze the message and figure out the semantics. What is the user talking about? Is the user happy with the product? \n",
    "                            2. Figure out what the product is focusing on\n",
    "                            3. Decide on a resolution. If the review is negative, do not give out replacements right away - only in severe cases (damage, shipping box missing, or other cases that you find above average)\n",
    "                            should you suggest a replacement - covered by us. In most cases, just apologize and tell them it's been forwarded to our appropriate team.\n",
    "                            \n",
    "                Once you take into account the tone and the focus of the message, please draft up a message that best represents our company. Keep the message short\n",
    "                simple, and friendly. You are not to insult the customer in whatever way. Make sure the response is relevant to the customer's product - each message shoudl feel unique to each customer.\n",
    "\n",
    "                Once you have generated a response, please have another look and make sure you are satisfied. If you require changes, make so now. If you think the message is \n",
    "                the best you can generate, please return it now.'''\n",
    "            },   \n",
    "            {\n",
    "                \"role\": \"user\", \n",
    "                \"content\": user_input\n",
    "            }\n",
    "        ],\n",
    "        model=\"gpt-5-nano\")\n",
    "    return result.choices[0].message.content\n",
    "\n"
   ]
  },
  {
   "cell_type": "code",
   "execution_count": 82,
   "id": "6b41293b",
   "metadata": {
    "scrolled": true
   },
   "outputs": [],
   "source": [
    "hi = open(\"customer_feedback.txt\", \"r\", encoding=\"utf-8\")"
   ]
  },
  {
   "cell_type": "code",
   "execution_count": 83,
   "id": "e8056006-cc14-498e-84e4-1638478256a1",
   "metadata": {},
   "outputs": [
    {
     "name": "stdout",
     "output_type": "stream",
     "text": [
      "Thank you so much for the fantastic review of your WidgetWorld ProMax! We’re thrilled you love the build quality, easy setup, and our follow-up support. Your recommendation means a lot to us. If you’d like, we’d be grateful to feature your testimonial (and a photo, if you have one). If you need any tips or help, we’re here for you. Enjoy your ProMax!\n",
      "Thank you so much for the kind words! We're thrilled you’re enjoying the widgets—affordable, well-designed, and that shipping was speedy with a little thank-you note. We’ll pass your praise along to the team. If you need anything else, we’re here to help!\n",
      "Thanks for the five-star review! We’re thrilled the site was easy to use and the widget exceeded your expectations. We’ll pass your kind words to the team. If you need anything else, we’re here to help.\n",
      "Thanks for the feedback! We’re glad the widget is working well. We’ve noted your wish for more color options and we’re sorry the delivery took longer than expected—that message is being passed to our shipping and product teams. If you’d like, we can notify you when new colors become available. Thanks for choosing WidgetWorld!\n",
      "Thank you for the honest feedback. We’re glad the product does what you need, and I’m sorry the packaging didn’t meet your expectations. I’ve forwarded your packaging note to our team for review. If there’s anything else you’d like to share or need help with, I’m here to help.\n",
      "Hi there, I’m sorry your experience was only average. I’ve forwarded your feedback to our product team for review. If you have specifics on what didn’t meet your expectations or features you’d like to see, please share and we’ll pass it along. If you’d like, I can help you find a different model or brand that might suit you better. Thanks for helping us improve at WidgetWorld.\n",
      "I’m really sorry to hear your widget stopped working and that you haven’t heard back from us yet. That’s not the experience we want.\n",
      "\n",
      "I’ve escalated your case to our support team for urgent review. To help us speed things up, please reply with:\n",
      "- Your order number\n",
      "- The widget model\n",
      "- A brief description of what happened (and any photos or error messages, if you have them)\n",
      "\n",
      "We’ll reach out with the next steps as soon as possible. Thanks for your patience.\n",
      "Sorry your item arrived damaged and the replacement took too long—that isn’t the experience we want. I’ve escalated this to our replacements team to speed things up and improve updates. We can arrange a replacement right away—please share your order number and whether you’d prefer a replacement or a refund. If you have a photo of the damage, please attach it to help us process quicker. Thank you for your patience.\n",
      "I’m sorry you’re disappointed with the quality and performance. I’ve forwarded your feedback to our product team for review. If you’d like to explore a return or refund, I can help—please share your order number and the product name. We’re here to make this right.\n"
     ]
    }
   ],
   "source": [
    "content = hi.read()\n",
    "\n",
    "#parse json content\n",
    "data = json.loads(content)\n",
    "\n",
    "review = data[\"reviews\"][0][\"text\"]\n",
    "# print(pipeline(review))\n",
    "\n",
    "for review in data[\"reviews\"]: \n",
    "    print(pipeline(review[\"text\"]))\n",
    "\n"
   ]
  },
  {
   "cell_type": "code",
   "execution_count": null,
   "id": "1013cbf9-b8d8-4b6f-bfc4-ee4578deceae",
   "metadata": {},
   "outputs": [],
   "source": []
  },
  {
   "cell_type": "code",
   "execution_count": null,
   "id": "74da3d2e-ab20-4f8f-a26d-053d659a6731",
   "metadata": {},
   "outputs": [],
   "source": []
  }
 ],
 "metadata": {
  "kernelspec": {
   "display_name": "Python 3 (ipykernel)",
   "language": "python",
   "name": "python3"
  },
  "language_info": {
   "codemirror_mode": {
    "name": "ipython",
    "version": 3
   },
   "file_extension": ".py",
   "mimetype": "text/x-python",
   "name": "python",
   "nbconvert_exporter": "python",
   "pygments_lexer": "ipython3",
   "version": "3.11.6"
  }
 },
 "nbformat": 4,
 "nbformat_minor": 5
}

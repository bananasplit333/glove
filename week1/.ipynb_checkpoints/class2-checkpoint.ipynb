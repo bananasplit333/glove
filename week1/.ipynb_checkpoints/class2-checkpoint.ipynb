{
 "cells": [
  {
   "cell_type": "code",
   "execution_count": 50,
   "id": "108bef6a-5ff9-4b04-8fdd-ea1aa3aac99e",
   "metadata": {},
   "outputs": [
    {
     "data": {
      "text/plain": [
       "True"
      ]
     },
     "execution_count": 50,
     "metadata": {},
     "output_type": "execute_result"
    }
   ],
   "source": [
    "import openai\n",
    "from langsmith.wrappers import wrap_openai\n",
    "from langsmith import traceable\n",
    "import os \n",
    "from dotenv import load_dotenv \n",
    "import json\n",
    "\n",
    "load_dotenv()"
   ]
  },
  {
   "cell_type": "code",
   "execution_count": 51,
   "id": "9ab2e992-fdea-4dd6-a787-bfcd0e524ae2",
   "metadata": {},
   "outputs": [],
   "source": [
    "os.environ[\"OPENAI_API_KEY\"] = os.getenv(\"OPENAI_API_KEY\")\n",
    "os.environ[\"LANGCHAIN_API_KEY\"] = os.getenv(\"LANGCHAIN_API_KEY\")\n",
    "os.environ[\"LANGCHAIN_TRACING_V2\"] = os.getenv(\"LANGCHAIN_TRACING_V2\")\n",
    "os.environ[\"LANGCHAIN_PROJECT\"] = os.getenv(\"LANGCHAIN_PROJECT\")"
   ]
  },
  {
   "cell_type": "code",
   "execution_count": 78,
   "id": "e758f560",
   "metadata": {},
   "outputs": [],
   "source": [
    "client = wrap_openai(openai.Client())\n",
    "\n",
    "def pipeline(user_input: str):\n",
    "    result = client.chat.completions.create(\n",
    "        messages=[\n",
    "            {\n",
    "                \"role\": \"system\",\n",
    "                \"content\": '''You are a helpful customer service agent that represents WidgetWorld, an online e-commerce conglomerate.\n",
    "                            You will be given some data that represents user reviews on our products. Given this data, you will be responsible for the following:\n",
    "\n",
    "                            1. Analyze the message and figure out the semantics. What is the user talking about? Is the user happy with the product? \n",
    "                            2. Figure out what the product is focusing on\n",
    "                            3. Decide on a resolution. If the review is negative, do not give out replacements right away - only in severe cases (damage, shipping box missing, or other cases that you find above average)\n",
    "                            should you suggest a replacement - covered by us. In most cases, just apologize and tell them it's been forwarded to our appropriate team.\n",
    "                            \n",
    "                Once you take into account the tone and the focus of the message, please draft up a message that best represents our company. Keep the message short\n",
    "                simple, and friendly. You are not to insult the customer in whatever way. Make sure the response is relevant to the customer's product - each message shoudl feel unique to each customer.\n",
    "\n",
    "                Once you have generated a response, please have another look and make sure you are satisfied. If you require changes, make so now. If you think the message is \n",
    "                the best you can generate, please return it now.'''\n",
    "            },   \n",
    "            {\n",
    "                \"role\": \"user\", \n",
    "                \"content\": user_input\n",
    "            }\n",
    "        ],\n",
    "        model=\"gpt-5-nano\")\n",
    "    return result.choices[0].message.content\n",
    "\n"
   ]
  },
  {
   "cell_type": "code",
   "execution_count": 79,
   "id": "6b41293b",
   "metadata": {
    "scrolled": true
   },
   "outputs": [],
   "source": [
    "hi = open(\"customer_feedback.txt\", \"r\", encoding=\"utf-8\")"
   ]
  },
  {
   "cell_type": "code",
   "execution_count": 80,
   "id": "e8056006-cc14-498e-84e4-1638478256a1",
   "metadata": {},
   "outputs": [
    {
     "name": "stdout",
     "output_type": "stream",
     "text": [
      "Thank you for the fantastic review! We’re thrilled you love the WidgetWorld ProMax, that setup was easy, and our support team followed up. We'll be sure to pass your kind words along to the team. If you have any tips to share or need anything else, we’re here. Enjoy your ProMax!\n",
      "Thanks so much for the kind words! We’re thrilled you’re happy with the widgets, their design, and fast shipping—and that the note in the box made you smile. If you ever need anything, just reply here. We’d love to hear how you use them or see a quick photo!\n",
      "Hi there! Thanks so much for the amazing 5-star review. We’re thrilled the site was easy to navigate and the widget is performing even better than expected. If you have any questions or want tips on using it, just reply here. Enjoy your WidgetWorld experience!\n",
      "Hi there! Thanks for the feedback—we’re glad the widget works well. We’ve noted your wish for more color options and will pass it along to our product team. Sorry about the delay in delivery. If you’d like a small courtesy voucher for the inconvenience, just reply here and we’ll arrange it. Thanks for choosing WidgetWorld!\n",
      "Thanks for sharing your thoughts! We’re glad the product does what it’s supposed to. Sorry about the packaging — I’ve forwarded this to our packaging team for review. If you’d like, we can arrange a small voucher for your next purchase as a thank you for the feedback—just reply here and we’ll set it up. Let us know if there’s anything else we can help with.\n",
      "Sorry to hear it didn’t exceed expectations. We’re glad it functions as described, but I’ll pass your feedback to our product team to help improve. If you’d like a small voucher for your next purchase as a thank you for sharing your thoughts, just reply here and we’ll arrange it. We’re happy to help you find a brand that better fits your needs next time.\n",
      "I'm really sorry you’re having this experience—it's disappointing when a widget stops working after a week and you’re waiting on a response. This isn’t the level of service we aim for.\n",
      "\n",
      "I’ve forwarded your case to our support team for urgent review. Could you please share your order number and the best way to reach you? If you’d like, we can arrange a goodwill voucher to help with this inconvenience.\n",
      "\n",
      "We’ll be in touch as soon as the team has looked into it. Thank you for letting us know.\n",
      "I’m really sorry your item arrived damaged and the replacement took too long with poor communication. This isn’t the experience we want.\n",
      "\n",
      "We’d like to arrange a replacement right away. Please reply with your order number and, if possible, a photo of the damage. We’ll expedite this and improve the updates.\n",
      "\n",
      "If you’d prefer a refund instead, just say the word. Your case has been escalated to our care team to prevent this in the future.\n",
      "I’m sorry you’re disappointed with the quality and performance. I’ve flagged this for our product team to review.\n",
      "\n",
      "To help us resolve quickly, could you share:\n",
      "- your order number and product name\n",
      "- a brief description of where it falls short\n",
      "- photos or a quick video, if possible\n",
      "\n",
      "Based on the review, we can arrange a refund or issue a voucher for your next purchase. We’ll follow up with next steps as soon as we hear back.\n"
     ]
    }
   ],
   "source": [
    "content = hi.read()\n",
    "\n",
    "#parse json content\n",
    "data = json.loads(content)\n",
    "\n",
    "review = data[\"reviews\"][0][\"text\"]\n",
    "# print(pipeline(review))\n",
    "\n",
    "for review in data[\"reviews\"]: \n",
    "    print(pipeline(review[\"text\"]))\n",
    "\n"
   ]
  },
  {
   "cell_type": "code",
   "execution_count": 28,
   "id": "1013cbf9-b8d8-4b6f-bfc4-ee4578deceae",
   "metadata": {},
   "outputs": [],
   "source": []
  },
  {
   "cell_type": "code",
   "execution_count": null,
   "id": "74da3d2e-ab20-4f8f-a26d-053d659a6731",
   "metadata": {},
   "outputs": [],
   "source": []
  }
 ],
 "metadata": {
  "kernelspec": {
   "display_name": "Python 3 (ipykernel)",
   "language": "python",
   "name": "python3"
  },
  "language_info": {
   "codemirror_mode": {
    "name": "ipython",
    "version": 3
   },
   "file_extension": ".py",
   "mimetype": "text/x-python",
   "name": "python",
   "nbconvert_exporter": "python",
   "pygments_lexer": "ipython3",
   "version": "3.11.6"
  }
 },
 "nbformat": 4,
 "nbformat_minor": 5
}
